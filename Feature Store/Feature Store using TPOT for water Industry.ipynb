{
 "cells": [
  {
   "cell_type": "code",
   "execution_count": 3,
   "metadata": {},
   "outputs": [],
   "source": [
    "import Rasterdata\n",
    "import pandas as pd\n",
    "import matplotlib.pyplot as plt\n",
    "import seaborn as sns\n"
   ]
  },
  {
   "cell_type": "code",
   "execution_count": 4,
   "metadata": {},
   "outputs": [
    {
     "name": "stderr",
     "output_type": "stream",
     "text": [
      "/Users/simrandeepsingh/Rasterdata/__init__.py:56: SettingWithCopyWarning: \n",
      "A value is trying to be set on a copy of a slice from a DataFrame\n",
      "\n",
      "See the caveats in the documentation: https://pandas.pydata.org/pandas-docs/stable/user_guide/indexing.html#returning-a-view-versus-a-copy\n",
      "  df_data['ECE'][i] = a\n",
      "/Users/simrandeepsingh/Rasterdata/__init__.py:57: SettingWithCopyWarning: \n",
      "A value is trying to be set on a copy of a slice from a DataFrame\n",
      "\n",
      "See the caveats in the documentation: https://pandas.pydata.org/pandas-docs/stable/user_guide/indexing.html#returning-a-view-versus-a-copy\n",
      "  df_data['DES'][i] = b\n",
      "/Users/simrandeepsingh/Rasterdata/__init__.py:58: SettingWithCopyWarning: \n",
      "A value is trying to be set on a copy of a slice from a DataFrame\n",
      "\n",
      "See the caveats in the documentation: https://pandas.pydata.org/pandas-docs/stable/user_guide/indexing.html#returning-a-view-versus-a-copy\n",
      "  df_data['SND'][i] = c\n"
     ]
    }
   ],
   "source": [
    "df = Rasterdata.mergingdata()\n"
   ]
  },
  {
   "cell_type": "code",
   "execution_count": 5,
   "metadata": {},
   "outputs": [
    {
     "data": {
      "text/html": [
       "<div>\n",
       "<style scoped>\n",
       "    .dataframe tbody tr th:only-of-type {\n",
       "        vertical-align: middle;\n",
       "    }\n",
       "\n",
       "    .dataframe tbody tr th {\n",
       "        vertical-align: top;\n",
       "    }\n",
       "\n",
       "    .dataframe thead th {\n",
       "        text-align: right;\n",
       "    }\n",
       "</style>\n",
       "<table border=\"1\" class=\"dataframe\">\n",
       "  <thead>\n",
       "    <tr style=\"text-align: right;\">\n",
       "      <th></th>\n",
       "      <th>#_failures</th>\n",
       "      <th>Above_Ground</th>\n",
       "      <th>Available Water Capacity of soil</th>\n",
       "      <th>Bulk Density</th>\n",
       "      <th>Clay content of soil</th>\n",
       "      <th>Corrosive</th>\n",
       "      <th>Depth of Regolith(m) Estimate Value</th>\n",
       "      <th>Depth of Soil_1</th>\n",
       "      <th>Depth of Soil_2</th>\n",
       "      <th>Depth of Soil_3</th>\n",
       "      <th>...</th>\n",
       "      <th>meanGL</th>\n",
       "      <th>pH CaCl2 of soil</th>\n",
       "      <th>pipe_size</th>\n",
       "      <th>pipe_type</th>\n",
       "      <th>pipe_id</th>\n",
       "      <th>rate_dis_min_max</th>\n",
       "      <th>variance</th>\n",
       "      <th>ECE</th>\n",
       "      <th>DES</th>\n",
       "      <th>SND</th>\n",
       "    </tr>\n",
       "  </thead>\n",
       "  <tbody>\n",
       "    <tr>\n",
       "      <th>0</th>\n",
       "      <td>0</td>\n",
       "      <td>False</td>\n",
       "      <td>13.35367</td>\n",
       "      <td>1.44454</td>\n",
       "      <td>35.34123</td>\n",
       "      <td>False</td>\n",
       "      <td>2.45581</td>\n",
       "      <td>0.91864</td>\n",
       "      <td>0.85693</td>\n",
       "      <td>0.98035</td>\n",
       "      <td>...</td>\n",
       "      <td>102.610163</td>\n",
       "      <td>4.38930</td>\n",
       "      <td>450</td>\n",
       "      <td>CICL</td>\n",
       "      <td>969731</td>\n",
       "      <td>1.803923</td>\n",
       "      <td>42.486657</td>\n",
       "      <td>1.688273</td>\n",
       "      <td>0.819286</td>\n",
       "      <td>35.364124</td>\n",
       "    </tr>\n",
       "    <tr>\n",
       "      <th>1</th>\n",
       "      <td>0</td>\n",
       "      <td>False</td>\n",
       "      <td>13.55364</td>\n",
       "      <td>1.39171</td>\n",
       "      <td>38.03822</td>\n",
       "      <td>False</td>\n",
       "      <td>1.91016</td>\n",
       "      <td>0.93327</td>\n",
       "      <td>0.85895</td>\n",
       "      <td>1.00760</td>\n",
       "      <td>...</td>\n",
       "      <td>114.059667</td>\n",
       "      <td>4.42773</td>\n",
       "      <td>300</td>\n",
       "      <td>CICL</td>\n",
       "      <td>834317</td>\n",
       "      <td>1.773362</td>\n",
       "      <td>0.001578</td>\n",
       "      <td>2.065556</td>\n",
       "      <td>0.826187</td>\n",
       "      <td>32.016441</td>\n",
       "    </tr>\n",
       "    <tr>\n",
       "      <th>2</th>\n",
       "      <td>0</td>\n",
       "      <td>False</td>\n",
       "      <td>14.03701</td>\n",
       "      <td>1.42618</td>\n",
       "      <td>35.92850</td>\n",
       "      <td>True</td>\n",
       "      <td>6.58317</td>\n",
       "      <td>1.05970</td>\n",
       "      <td>1.01487</td>\n",
       "      <td>1.10454</td>\n",
       "      <td>...</td>\n",
       "      <td>82.061933</td>\n",
       "      <td>4.85542</td>\n",
       "      <td>500</td>\n",
       "      <td>DICL</td>\n",
       "      <td>2751211</td>\n",
       "      <td>2.432449</td>\n",
       "      <td>0.020876</td>\n",
       "      <td>2.582660</td>\n",
       "      <td>1.014872</td>\n",
       "      <td>42.694370</td>\n",
       "    </tr>\n",
       "    <tr>\n",
       "      <th>3</th>\n",
       "      <td>0</td>\n",
       "      <td>False</td>\n",
       "      <td>13.58521</td>\n",
       "      <td>1.43660</td>\n",
       "      <td>31.51254</td>\n",
       "      <td>False</td>\n",
       "      <td>6.56852</td>\n",
       "      <td>1.03126</td>\n",
       "      <td>0.97197</td>\n",
       "      <td>1.09056</td>\n",
       "      <td>...</td>\n",
       "      <td>21.163500</td>\n",
       "      <td>4.86466</td>\n",
       "      <td>450</td>\n",
       "      <td>DICL</td>\n",
       "      <td>3515016</td>\n",
       "      <td>0.435364</td>\n",
       "      <td>0.006989</td>\n",
       "      <td>2.486584</td>\n",
       "      <td>1.037101</td>\n",
       "      <td>29.256130</td>\n",
       "    </tr>\n",
       "    <tr>\n",
       "      <th>4</th>\n",
       "      <td>0</td>\n",
       "      <td>False</td>\n",
       "      <td>14.55651</td>\n",
       "      <td>1.42271</td>\n",
       "      <td>34.24453</td>\n",
       "      <td>True</td>\n",
       "      <td>7.30174</td>\n",
       "      <td>1.12071</td>\n",
       "      <td>1.06157</td>\n",
       "      <td>1.17986</td>\n",
       "      <td>...</td>\n",
       "      <td>61.728400</td>\n",
       "      <td>5.01626</td>\n",
       "      <td>250</td>\n",
       "      <td>DICL</td>\n",
       "      <td>3128460</td>\n",
       "      <td>1.196072</td>\n",
       "      <td>0.000000</td>\n",
       "      <td>3.074979</td>\n",
       "      <td>1.061569</td>\n",
       "      <td>42.874249</td>\n",
       "    </tr>\n",
       "  </tbody>\n",
       "</table>\n",
       "<p>5 rows × 74 columns</p>\n",
       "</div>"
      ],
      "text/plain": [
       "   #_failures  Above_Ground  Available Water Capacity of soil  Bulk Density  \\\n",
       "0           0         False                          13.35367       1.44454   \n",
       "1           0         False                          13.55364       1.39171   \n",
       "2           0         False                          14.03701       1.42618   \n",
       "3           0         False                          13.58521       1.43660   \n",
       "4           0         False                          14.55651       1.42271   \n",
       "\n",
       "   Clay content of soil  Corrosive  Depth of Regolith(m) Estimate Value  \\\n",
       "0              35.34123      False                              2.45581   \n",
       "1              38.03822      False                              1.91016   \n",
       "2              35.92850       True                              6.58317   \n",
       "3              31.51254      False                              6.56852   \n",
       "4              34.24453       True                              7.30174   \n",
       "\n",
       "   Depth of Soil_1  Depth of Soil_2  Depth of Soil_3  ...      meanGL  \\\n",
       "0          0.91864          0.85693          0.98035  ...  102.610163   \n",
       "1          0.93327          0.85895          1.00760  ...  114.059667   \n",
       "2          1.05970          1.01487          1.10454  ...   82.061933   \n",
       "3          1.03126          0.97197          1.09056  ...   21.163500   \n",
       "4          1.12071          1.06157          1.17986  ...   61.728400   \n",
       "\n",
       "   pH CaCl2 of soil  pipe_size  pipe_type  pipe_id  rate_dis_min_max  \\\n",
       "0           4.38930        450       CICL   969731          1.803923   \n",
       "1           4.42773        300       CICL   834317          1.773362   \n",
       "2           4.85542        500       DICL  2751211          2.432449   \n",
       "3           4.86466        450       DICL  3515016          0.435364   \n",
       "4           5.01626        250       DICL  3128460          1.196072   \n",
       "\n",
       "    variance       ECE       DES        SND  \n",
       "0  42.486657  1.688273  0.819286  35.364124  \n",
       "1   0.001578  2.065556  0.826187  32.016441  \n",
       "2   0.020876  2.582660  1.014872  42.694370  \n",
       "3   0.006989  2.486584  1.037101  29.256130  \n",
       "4   0.000000  3.074979  1.061569  42.874249  \n",
       "\n",
       "[5 rows x 74 columns]"
      ]
     },
     "execution_count": 5,
     "metadata": {},
     "output_type": "execute_result"
    }
   ],
   "source": [
    "df.head()\n",
    "#sampled data collected australian water utility.\n",
    "#remove depth of soil, ph.\n",
    "#dont mention lga, pipe_id"
   ]
  },
  {
   "cell_type": "code",
   "execution_count": 6,
   "metadata": {},
   "outputs": [],
   "source": [
    "del df['pipe_id']\n",
    "del df['Depth of Soil_1']\n",
    "del df['Depth of Soil_2']\n",
    "del df['Depth of Soil_3']\n",
    "df = df.dropna()"
   ]
  },
  {
   "cell_type": "code",
   "execution_count": 7,
   "metadata": {},
   "outputs": [
    {
     "data": {
      "image/png": "[encoded data removed]",
      "text/plain": [
       "<Figure size 432x288 with 1 Axes>"
      ]
     },
     "metadata": {
      "needs_background": "light"
     },
     "output_type": "display_data"
    }
   ],
   "source": [
    "df['Failed'].value_counts().plot(kind = \"barh\")\n",
    "plt.xlabel(\"Count\")\n",
    "plt.ylabel(\"Failed\")\n",
    "plt.show()"
   ]
  },
  {
   "cell_type": "code",
   "execution_count": 8,
   "metadata": {},
   "outputs": [
    {
     "data": {
      "text/plain": [
       "array(['Hornsby', 'Ku-Ring-Gai', 'Blacktown', 'Parramatta', 'Penrith',\n",
       "       'Sydney', 'Wollongong', 'Randwick', 'Pittwater', 'Woollahra',\n",
       "       'Sutherland', 'Shellharbour', 'Camden', 'Bankstown',\n",
       "       'North Sydney', 'Wollondilly', 'Campbelltown', 'Botany Bay',\n",
       "       'The Hills Shire', 'Unknown', 'Holroyd', 'Marrickville',\n",
       "       'Fairfield', 'Liverpool', 'Ryde', 'Canterbury', 'Ashfield',\n",
       "       'Willoughby', 'Leichhardt', 'Kiama', 'Hawkesbury', 'Hurstville',\n",
       "       'Auburn', 'Waverley', 'Manly', 'Rockdale', 'Canada Bay', 'Burwood',\n",
       "       'Blue Mountains', 'Lane Cove', 'Warringah', 'Mosman',\n",
       "       'Strathfield', 'Hunters Hill', 'Wingecarribee', 'Kogarah'],\n",
       "      dtype=object)"
      ]
     },
     "execution_count": 8,
     "metadata": {},
     "output_type": "execute_result"
    }
   ],
   "source": [
    "df.lga.unique()"
   ]
  },
  {
   "cell_type": "code",
   "execution_count": 9,
   "metadata": {},
   "outputs": [],
   "source": [
    "title_mapping = {\"Hornsby\": 0, \"Ku-Ring-Gai\": 1, \"Blacktown\": 2,\"Parramatta\":3, \"Penrith\":4, \"Sydney\":5, \"Wollongong\":6,\n",
    "                \"Randwick\":7, \"Pittwater\":8, \"Woollahra\":9,\"Sutherland\":10,\"Shellharbour\":11,\"Camden\":12,\"Bankstown\":13\n",
    "                ,\"North Sydney\":14,\"Wollondilly\":15,\"Campbelltown\":16,\"Botany Bay\":17,\"The Hills Shire\":18,\"Unknown\":19,\n",
    "                \"Holroyd\":20,\"Marrickville\":21,\"Fairfield\":22,\"Liverpool\":23,\"Ryde\":24,\"Canterbury\":25,\"Ashfield\":26,\n",
    "                \"Willoughby\":27,\"Leichhardt\":28,\"Kiama\":29,\"Hawkesbury\":30,\"Hurstville\":31,\"Auburn\":32,\"Waverley\":33,\n",
    "                \"Manly\":34,\"Rockdale\":35,\"Canada Bay\":36,\"Burwood\":37,\"Blue Mountains\":38,\"Lane Cove\":39,\"Warringah\":40\n",
    "                ,\"Mosman\":41,\"Strathfield\":42,\"Hunters Hill\":43,\"Wingecarribee\":44,\"Kogarah\":45}\n",
    "\n",
    "df['lga'] = df['lga'].map(title_mapping) "
   ]
  },
  {
   "cell_type": "code",
   "execution_count": 10,
   "metadata": {},
   "outputs": [
    {
     "data": {
      "text/plain": [
       "array(['CICL', 'DICL', 'PE', 'SCL', 'uPVC', 'SCL IBL', 'mPVC', 'oPVC',\n",
       "       'Unknown', 'GRP', 'RC', 'HDPE', 'FL BAR', 'SS', 'Primus Liner',\n",
       "       'AC', 'MSCL', 'VC', 'DICLSC'], dtype=object)"
      ]
     },
     "execution_count": 10,
     "metadata": {},
     "output_type": "execute_result"
    }
   ],
   "source": [
    "df.pipe_type.unique()\n"
   ]
  },
  {
   "cell_type": "code",
   "execution_count": 11,
   "metadata": {},
   "outputs": [],
   "source": [
    "pipe_mapping = {\"CICL\": 0, \"DICL\": 1, \"PE\": 2,\"SCL\":3, \"uPVC\":4,\"SCL IBL'\":3, \"mPVC\":4, \"oPVC\":5, \"Unknown\":6,\n",
    "                \"GRP\":7, \"RC\":8, \"HDPE\":9,\"FL BAR\":10,\"SS\":11,\"Primus Liner\":12,\"AC\":13\n",
    "                ,\"MSCL\":14,\"VC\":15,\"DICLSC\":16}\n",
    "\n",
    "df['pipe_type'] = df['pipe_type'].map(title_mapping) \n"
   ]
  },
  {
   "cell_type": "code",
   "execution_count": 13,
   "metadata": {},
   "outputs": [],
   "source": [
    "del df['pipe_type']"
   ]
  },
  {
   "cell_type": "code",
   "execution_count": 14,
   "metadata": {},
   "outputs": [
    {
     "name": "stdout",
     "output_type": "stream",
     "text": [
      "<class 'pandas.core.frame.DataFrame'>\n",
      "Int64Index: 79536 entries, 0 to 79639\n",
      "Data columns (total 69 columns):\n",
      " #   Column                                      Non-Null Count  Dtype  \n",
      "---  ------                                      --------------  -----  \n",
      " 0   #_failures                                  79536 non-null  int64  \n",
      " 1   Above_Ground                                79536 non-null  bool   \n",
      " 2   Available Water Capacity of soil            79536 non-null  float64\n",
      " 3   Bulk Density                                79536 non-null  float64\n",
      " 4   Clay content of soil                        79536 non-null  float64\n",
      " 5   Corrosive                                   79536 non-null  bool   \n",
      " 6   Depth of Regolith(m) Estimate Value         79536 non-null  float64\n",
      " 7   Effective Cation Exchange Capacity of soil  79536 non-null  float64\n",
      " 8   Encased_in_Pipe                             79536 non-null  bool   \n",
      " 9   FWY_CW                                      79536 non-null  bool   \n",
      " 10  FWY_RR                                      79536 non-null  bool   \n",
      " 11  Failed                                      79536 non-null  int64  \n",
      " 12  GL_diff_along_pipe_100m                     79536 non-null  float64\n",
      " 13  GL_diff_along_pipe_200m                     79536 non-null  float64\n",
      " 14  GL_diff_along_pipe_50m                      79536 non-null  float64\n",
      " 15  GL_diff_area_max_min                        79536 non-null  float64\n",
      " 16  GL_diff_pipe_area_max                       79536 non-null  float64\n",
      " 17  GL_diff_pipe_area_min                       79536 non-null  float64\n",
      " 18  G_Pressure                                  79536 non-null  float64\n",
      " 19  Highly_Corrosive                            79536 non-null  bool   \n",
      " 20  In_Tunnel                                   79536 non-null  bool   \n",
      " 21  LS                                          79536 non-null  bool   \n",
      " 22  LU_Air                                      79536 non-null  bool   \n",
      " 23  LU_CBD1                                     79536 non-null  bool   \n",
      " 24  LU_CBD2                                     79536 non-null  bool   \n",
      " 25  LU_Hosp                                     79536 non-null  bool   \n",
      " 26  LU_IndComm                                  79536 non-null  bool   \n",
      " 27  LU_Resid                                    79536 non-null  bool   \n",
      " 28  MiR_CW                                      79536 non-null  bool   \n",
      " 29  MiR_RR                                      79536 non-null  bool   \n",
      " 30  MjR_CW_Dual                                 79536 non-null  bool   \n",
      " 31  MjR_CW_Single                               79536 non-null  bool   \n",
      " 32  MjR_RR_Dual                                 79536 non-null  bool   \n",
      " 33  MjR_RR_Single                               79536 non-null  bool   \n",
      " 34  None_Corrosive                              79536 non-null  bool   \n",
      " 35  Organic Carbon of soil                      79536 non-null  float64\n",
      " 36  P_Pressure                                  79536 non-null  float64\n",
      " 37  Probability                                 79536 non-null  float64\n",
      " 38  RW_Coal                                     79536 non-null  bool   \n",
      " 39  RW_Goods                                    79536 non-null  bool   \n",
      " 40  RW_LR                                       79536 non-null  bool   \n",
      " 41  RW_Link                                     79536 non-null  bool   \n",
      " 42  RW_MaL                                      79536 non-null  bool   \n",
      " 43  RW_MiL                                      79536 non-null  bool   \n",
      " 44  RW_Siding                                   79536 non-null  bool   \n",
      " 45  RW_Tourist                                  79536 non-null  bool   \n",
      " 46  Sand                                        79536 non-null  float64\n",
      " 47  Silt of soil                                79536 non-null  float64\n",
      " 48  Standard_Depth                              79536 non-null  bool   \n",
      " 49  Total Nitrogen of soil                      79536 non-null  float64\n",
      " 50  Total Phosphorus of soil                    79536 non-null  float64\n",
      " 51  Tunnel_Portals                              79536 non-null  bool   \n",
      " 52  Waterway                                    79536 non-null  bool   \n",
      " 53  age                                         79536 non-null  int64  \n",
      " 54  dis_pipe_area_max                           79536 non-null  float64\n",
      " 55  dis_pipe_area_min                           79536 non-null  float64\n",
      " 56  horizontal_length                           79536 non-null  float64\n",
      " 57  lag                                         79536 non-null  float64\n",
      " 58  laid_year                                   79536 non-null  int64  \n",
      " 59  lga                                         79536 non-null  int64  \n",
      " 60  long                                        79536 non-null  float64\n",
      " 61  meanGL                                      79536 non-null  float64\n",
      " 62  pH CaCl2 of soil                            79536 non-null  float64\n",
      " 63  pipe_size                                   79536 non-null  int64  \n",
      " 64  rate_dis_min_max                            79536 non-null  float64\n",
      " 65  variance                                    79536 non-null  float64\n",
      " 66  ECE                                         79536 non-null  float64\n",
      " 67  DES                                         79536 non-null  float64\n",
      " 68  SND                                         79536 non-null  float64\n",
      "dtypes: bool(32), float64(31), int64(6)\n",
      "memory usage: 25.5 MB\n"
     ]
    }
   ],
   "source": [
    "df.info()\n"
   ]
  },
  {
   "cell_type": "code",
   "execution_count": 15,
   "metadata": {},
   "outputs": [
    {
     "name": "stdout",
     "output_type": "stream",
     "text": [
      "(79536, 68)\n",
      "(79536,)\n"
     ]
    }
   ],
   "source": [
    "import numpy as np\n",
    "#Create independent and Dependent Features\n",
    "columns = df.columns.tolist()\n",
    "# Filter the columns to remove data we do not want \n",
    "columns = [c for c in columns if c not in [\"Failed\"]]\n",
    "# Store the variable we are predicting \n",
    "target = \"Failed\"\n",
    "# Define a random state \n",
    "state = np.random.RandomState(42)\n",
    "X = df[columns]\n",
    "Y = df[target]\n",
    "X_outliers = state.uniform(low=0, high=1, size=(X.shape[0], X.shape[1]))\n",
    "# Print the shapes of X & Y\n",
    "print(X.shape)\n",
    "print(Y.shape)\n"
   ]
  },
  {
   "cell_type": "code",
   "execution_count": 16,
   "metadata": {},
   "outputs": [],
   "source": [
    "failedpipe = df[df['Failed']==1]\n",
    "\n",
    "normal = df[df['Failed']==0]\n"
   ]
  },
  {
   "cell_type": "code",
   "execution_count": 17,
   "metadata": {},
   "outputs": [
    {
     "name": "stdout",
     "output_type": "stream",
     "text": [
      "(228, 69) (79308, 69)\n"
     ]
    }
   ],
   "source": [
    "print(failedpipe.shape,normal.shape)\n"
   ]
  },
  {
   "cell_type": "code",
   "execution_count": 18,
   "metadata": {},
   "outputs": [],
   "source": [
    "from imblearn.combine import SMOTETomek\n",
    "from imblearn.under_sampling import NearMiss\n"
   ]
  },
  {
   "cell_type": "code",
   "execution_count": 19,
   "metadata": {},
   "outputs": [],
   "source": [
    "from sklearn.model_selection import train_test_split\n",
    "X_train, X_test, Y_train, Y_test = train_test_split(X,Y, test_size = 0.2, random_state = 1)\n"
   ]
  },
  {
   "cell_type": "code",
   "execution_count": 20,
   "metadata": {},
   "outputs": [],
   "source": [
    "from tpot import TPOTClassifier \n"
   ]
  },
  {
   "cell_type": "code",
   "execution_count": 21,
   "metadata": {},
   "outputs": [],
   "source": [
    "tpot_obj = TPOTClassifier(generations=10, population_size=20, cv=5, scoring = 'neg_log_loss',\n",
    "                                    random_state=42, verbosity=2, template='Selector-Transformer-Classifier')\n"
   ]
  },
  {
   "cell_type": "code",
   "execution_count": 22,
   "metadata": {},
   "outputs": [
    {
     "name": "stderr",
     "output_type": "stream",
     "text": [
      "Version 0.11.6.post1 of tpot is outdated. Version 0.11.7 was released Wednesday January 06, 2021.\n"
     ]
    },
    {
     "data": {
      "application/vnd.jupyter.widget-view+json": {
       "model_id": "",
       "version_major": 2,
       "version_minor": 0
      },
      "text/plain": [
       "HBox(children=(HTML(value='Optimization Progress'), FloatProgress(value=0.0, max=220.0), HTML(value='')))"
      ]
     },
     "metadata": {},
     "output_type": "display_data"
    },
    {
     "name": "stdout",
     "output_type": "stream",
     "text": [
      "\n",
      "Generation 1 - Current best internal CV score: -0.015823557524476\n",
      "\n",
      "Generation 2 - Current best internal CV score: -0.015823557524476\n",
      "\n",
      "Generation 3 - Current best internal CV score: -0.01556503315826921\n",
      "\n",
      "Generation 4 - Current best internal CV score: -0.01556503315826921\n",
      "\n",
      "Generation 5 - Current best internal CV score: -0.01556503315826921\n",
      "\n",
      "Generation 6 - Current best internal CV score: -0.01556503315826921\n",
      "\n",
      "Generation 7 - Current best internal CV score: -0.01542436403477152\n",
      "\n",
      "Generation 8 - Current best internal CV score: -0.01542436403477152\n",
      "\n",
      "Generation 9 - Current best internal CV score: -0.01542436403477152\n",
      "\n",
      "Generation 10 - Current best internal CV score: -0.01542436403477152\n",
      "\n",
      "Best pipeline: XGBClassifier(StandardScaler(VarianceThreshold(input_matrix, threshold=0.0001)), learning_rate=0.1, max_depth=1, min_child_weight=7, n_estimators=100, nthread=1, subsample=0.5)\n"
     ]
    },
    {
     "data": {
      "text/plain": [
       "TPOTClassifier(generations=10, population_size=20, random_state=42,\n",
       "               scoring='neg_log_loss',\n",
       "               template='Selector-Transformer-Classifier', verbosity=2)"
      ]
     },
     "execution_count": 22,
     "metadata": {},
     "output_type": "execute_result"
    }
   ],
   "source": [
    "tpot_obj.fit(X_train, Y_train)\n"
   ]
  },
  {
   "cell_type": "code",
   "execution_count": 23,
   "metadata": {},
   "outputs": [
    {
     "name": "stdout",
     "output_type": "stream",
     "text": [
      "-0.021613827424744103\n"
     ]
    }
   ],
   "source": [
    "print(tpot_obj.score(X_test, Y_test))\n"
   ]
  },
  {
   "cell_type": "code",
   "execution_count": 24,
   "metadata": {},
   "outputs": [],
   "source": [
    "# AUC score (prediction and labels)\n",
    "y_preds = tpot_obj.predict(X_test)\n",
    "\n"
   ]
  },
  {
   "cell_type": "code",
   "execution_count": 28,
   "metadata": {},
   "outputs": [],
   "source": [
    "from sklearn.metrics import roc_curve, auc\n",
    "\n",
    "fpr, tpr, thresholds = roc_curve(Y_test, y_preds, pos_label=1)\n",
    "auc_roc = auc(fpr, tpr)\n"
   ]
  },
  {
   "cell_type": "code",
   "execution_count": 30,
   "metadata": {},
   "outputs": [
    {
     "name": "stdout",
     "output_type": "stream",
     "text": [
      "0.5\n"
     ]
    }
   ],
   "source": [
    "print(auc_roc)\n"
   ]
  },
  {
   "cell_type": "code",
   "execution_count": 31,
   "metadata": {},
   "outputs": [
    {
     "name": "stderr",
     "output_type": "stream",
     "text": [
      "Version 0.11.6.post1 of tpot is outdated. Version 0.11.7 was released Wednesday January 06, 2021.\n"
     ]
    },
    {
     "data": {
      "application/vnd.jupyter.widget-view+json": {
       "model_id": "",
       "version_major": 2,
       "version_minor": 0
      },
      "text/plain": [
       "HBox(children=(HTML(value='Optimization Progress'), FloatProgress(value=0.0, max=40.0), HTML(value='')))"
      ]
     },
     "metadata": {},
     "output_type": "display_data"
    },
    {
     "name": "stdout",
     "output_type": "stream",
     "text": [
      "\n",
      "Generation 1 - Current best internal CV score: 0.8689315525059056\n",
      "\n",
      "Best pipeline: XGBClassifier(StandardScaler(VarianceThreshold(input_matrix, threshold=0.0005)), learning_rate=0.1, max_depth=7, min_child_weight=7, n_estimators=100, nthread=1, subsample=0.5)\n"
     ]
    },
    {
     "data": {
      "text/plain": [
       "TPOTClassifier(generations=1, population_size=20, random_state=42,\n",
       "               scoring='roc_auc', template='Selector-Transformer-Classifier',\n",
       "               verbosity=2)"
      ]
     },
     "execution_count": 31,
     "metadata": {},
     "output_type": "execute_result"
    }
   ],
   "source": [
    "tpot_obj2 = TPOTClassifier(generations=1, population_size=20, cv=5, scoring = 'roc_auc',\n",
    "                                    random_state=42, verbosity=2, template='Selector-Transformer-Classifier')\n",
    "tpot_obj2.fit(X_train, Y_train)\n"
   ]
  },
  {
   "cell_type": "code",
   "execution_count": null,
   "metadata": {},
   "outputs": [],
   "source": []
  }
 ],
 "metadata": {
  "kernelspec": {
   "display_name": "Python 3",
   "language": "python",
   "name": "python3"
  },
  "language_info": {
   "codemirror_mode": {
    "name": "ipython",
    "version": 3
   },
   "file_extension": ".py",
   "mimetype": "text/x-python",
   "name": "python",
   "nbconvert_exporter": "python",
   "pygments_lexer": "ipython3",
   "version": "3.7.5"
  }
 },
 "nbformat": 4,
 "nbformat_minor": 4
}
